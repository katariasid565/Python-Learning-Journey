{
 "cells": [
  {
   "cell_type": "markdown",
   "id": "637295d5-d11a-41b6-a8f8-72f7c1e46d8f",
   "metadata": {},
   "source": [
    "📘 Day 16: Model Tuning with GridSearchCV"
   ]
  },
  {
   "cell_type": "markdown",
   "id": "ed1a90a1-688b-415c-9083-5b9f50cc3b54",
   "metadata": {},
   "source": [
    "Your model works—but can we make it better? Yup. That’s what hyperparameter tuning is all about.\n",
    "We’ll use GridSearchCV to automatically test different model settings and pick the best combo. 🧪\n"
   ]
  },
  {
   "cell_type": "markdown",
   "id": "7871693c-9740-4cf9-8125-7a9e09e085bf",
   "metadata": {},
   "source": [
    "✅ What You’ll Learn\n",
    "\n",
    "What is hyperparameter tuning?\n",
    "\n",
    "How to use GridSearchCV to optimize your model\n",
    "\n",
    "Compare tuned model to original"
   ]
  },
  {
   "cell_type": "code",
   "execution_count": null,
   "id": "44202664-41bc-4bfc-aaca-660c0f9a643f",
   "metadata": {},
   "outputs": [],
   "source": [
    "from sklearn.model_selection import GridSearchCV\n",
    "from sklearn.ensamble import RandomForestClassifier"
   ]
  }
 ],
 "metadata": {
  "kernelspec": {
   "display_name": "Python 3 (ipykernel)",
   "language": "python",
   "name": "python3"
  },
  "language_info": {
   "codemirror_mode": {
    "name": "ipython",
    "version": 3
   },
   "file_extension": ".py",
   "mimetype": "text/x-python",
   "name": "python",
   "nbconvert_exporter": "python",
   "pygments_lexer": "ipython3",
   "version": "3.13.2"
  }
 },
 "nbformat": 4,
 "nbformat_minor": 5
}
