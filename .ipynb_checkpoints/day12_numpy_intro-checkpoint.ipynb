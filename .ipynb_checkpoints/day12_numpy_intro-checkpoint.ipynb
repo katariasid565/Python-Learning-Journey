{
 "cells": [
  {
   "cell_type": "markdown",
   "id": "ab3b8467-7f37-491f-af7d-19098a1a2e0a",
   "metadata": {},
   "source": [
    "What is NumPy?\n",
    "NumPy (Numerical Python) is used for working with:\n",
    "\n",
    "Arrays (1D, 2D, ND)\n",
    "\n",
    "Linear algebra\n",
    "\n",
    "Statistics\n",
    "\n",
    "Random number generation\n",
    "\n",
    "Broadcasting (fast operations)"
   ]
  },
  {
   "cell_type": "code",
   "execution_count": 1,
   "id": "54276071-a89e-4e50-bf66-5c7271d5da54",
   "metadata": {},
   "outputs": [],
   "source": [
    "import numpy as np"
   ]
  },
  {
   "cell_type": "code",
   "execution_count": 2,
   "id": "f6d2a9b2-7979-49b5-968b-f9297dd036b4",
   "metadata": {},
   "outputs": [
    {
     "name": "stdout",
     "output_type": "stream",
     "text": [
      "[1 2 3 4 5]\n"
     ]
    }
   ],
   "source": [
    "# 1D array\n",
    "arr = np.array([1,2,3,4,5])\n",
    "print(arr)"
   ]
  },
  {
   "cell_type": "code",
   "execution_count": 3,
   "id": "3888c291-2f3e-4d36-81ba-5a1ae2e08786",
   "metadata": {},
   "outputs": [
    {
     "name": "stdout",
     "output_type": "stream",
     "text": [
      "mean:  3.0\n",
      "standard deviation:  1.4142135623730951\n",
      "max value:  5\n",
      "Total:  15\n"
     ]
    }
   ],
   "source": [
    "# Basic Operations\n",
    "print(\"mean: \", np.mean(arr))\n",
    "print(\"standard deviation: \", np.std(arr))\n",
    "print(\"max value: \", np.max(arr))\n",
    "print(\"Total: \", np.sum(arr))"
   ]
  },
  {
   "cell_type": "code",
   "execution_count": 4,
   "id": "1aff2b43-09b5-4fe4-b837-97d631effd78",
   "metadata": {},
   "outputs": [
    {
     "name": "stdout",
     "output_type": "stream",
     "text": [
      "Transpose:\n",
      " [[1 4]\n",
      " [2 5]]\n",
      "Dot product:\n",
      " [[ 9 12]\n",
      " [24 33]]\n"
     ]
    }
   ],
   "source": [
    "# 2D array.\n",
    "\n",
    "matrix = np.array([[1,2], [4,5]])\n",
    "\n",
    "#Matrix Transpose.\n",
    "\n",
    "print(\"Transpose:\\n\", matrix.T)\n",
    "print(\"Dot product:\\n\", np.dot(matrix, matrix))\n"
   ]
  },
  {
   "cell_type": "markdown",
   "id": "a59393f4-fc45-46d3-b3a1-8405dd53352e",
   "metadata": {},
   "source": [
    "🎲 5. Random Number Generation"
   ]
  },
  {
   "cell_type": "code",
   "execution_count": 5,
   "id": "4356a6e1-5b83-40a2-90fe-4f5caa69292d",
   "metadata": {},
   "outputs": [
    {
     "name": "stdout",
     "output_type": "stream",
     "text": [
      "Random Array\n",
      " [[58 72 32]\n",
      " [11 22 66]\n",
      " [67 24 51]]\n"
     ]
    }
   ],
   "source": [
    "random_arr = np.random.randint(1,100, size = (3,3))\n",
    "print(\"Random Array\\n\", random_arr)"
   ]
  },
  {
   "cell_type": "markdown",
   "id": "9c5edd67-0999-4d20-8d78-ac808fb4aac3",
   "metadata": {},
   "source": [
    "🧠 6. Shape & Reshape"
   ]
  },
  {
   "cell_type": "code",
   "execution_count": 6,
   "id": "ca489888-5494-4f65-8cc7-4f1296bf9fde",
   "metadata": {},
   "outputs": [
    {
     "name": "stdout",
     "output_type": "stream",
     "text": [
      "reshaped array:\n",
      " [[ 0  1  2  3]\n",
      " [ 4  5  6  7]\n",
      " [ 8  9 10 11]]\n"
     ]
    }
   ],
   "source": [
    "arr = np.arange(12)\n",
    "reshaped = arr.reshape(3,4)\n",
    "print(\"reshaped array:\\n\", reshaped)"
   ]
  },
  {
   "cell_type": "markdown",
   "id": "016a4c1b-572a-4e56-881a-f07337a283ca",
   "metadata": {},
   "source": [
    "...................Exercise...................."
   ]
  },
  {
   "cell_type": "code",
   "execution_count": 7,
   "id": "43594449-8fe5-4f28-9c09-7e7c9b203c2e",
   "metadata": {},
   "outputs": [
    {
     "name": "stdout",
     "output_type": "stream",
     "text": [
      "[1 2 3 4 5 6 7 8 9]\n"
     ]
    }
   ],
   "source": [
    "# 1D array\n",
    "arr1 = np.array([1,2,3,4,5,6,7,8,9])\n",
    "print(arr1)"
   ]
  },
  {
   "cell_type": "code",
   "execution_count": 8,
   "id": "db6917ad-a4e7-4f0c-8422-be7d7d5ad2c1",
   "metadata": {},
   "outputs": [
    {
     "name": "stdout",
     "output_type": "stream",
     "text": [
      "[[2 4]\n",
      " [6 8]]\n"
     ]
    }
   ],
   "source": [
    "# 2D array\n",
    "arr2 = np.array([[2,4], [6,8]])\n",
    "print(arr2)"
   ]
  },
  {
   "cell_type": "code",
   "execution_count": 9,
   "id": "8e4fd123-1b93-487c-be6d-240b4d628776",
   "metadata": {},
   "outputs": [
    {
     "name": "stdout",
     "output_type": "stream",
     "text": [
      "Mean:  5.0\n",
      "Standard Deviation:  2.58\n",
      "Max Value:  9\n",
      "Min Value:  1\n",
      "Sum:  45\n",
      "Variance:  6.67\n"
     ]
    }
   ],
   "source": [
    "# Basics math operations..\n",
    "print(\"Mean: \", np.mean(arr1))\n",
    "print(\"Standard Deviation: \", np.round(np.std(arr1),2))\n",
    "print(\"Max Value: \", np.max(arr1))\n",
    "print(\"Min Value: \", np.min(arr1))\n",
    "print(\"Sum: \", np.sum(arr1))\n",
    "print(\"Variance: \", np.round(np.var(arr1),2))\n"
   ]
  },
  {
   "cell_type": "code",
   "execution_count": 10,
   "id": "79c41ba9-cf01-4631-b545-ba9dceda5777",
   "metadata": {
    "jupyter": {
     "source_hidden": true
    }
   },
   "outputs": [
    {
     "name": "stdout",
     "output_type": "stream",
     "text": [
      "[[111 112 948]\n",
      " [777 942 708]\n",
      " [439 108 967]]\n"
     ]
    }
   ],
   "source": [
    "# Generate Random Arrays\n",
    "arr3 = np.random.randint(100,1000, size = (3,3))\n",
    "print(arr3)"
   ]
  },
  {
   "cell_type": "code",
   "execution_count": 11,
   "id": "8c9c46fe-6df6-42d4-916a-dc9795011e95",
   "metadata": {},
   "outputs": [],
   "source": [
    "# Reshaping the array\n",
    "arr4 = np.arange(1,21)"
   ]
  },
  {
   "cell_type": "code",
   "execution_count": 12,
   "id": "901072b8-dfc4-4f4e-bc0e-0ed8b43b294e",
   "metadata": {},
   "outputs": [
    {
     "name": "stdout",
     "output_type": "stream",
     "text": [
      "[ 1  2  3  4  5  6  7  8  9 10 11 12 13 14 15 16 17 18 19 20]\n"
     ]
    }
   ],
   "source": [
    "print(arr4)"
   ]
  },
  {
   "cell_type": "code",
   "execution_count": 13,
   "id": "514adc04-04ec-425c-ba62-cc4eddc49ff6",
   "metadata": {},
   "outputs": [
    {
     "name": "stdout",
     "output_type": "stream",
     "text": [
      "[[ 1  2  3  4]\n",
      " [ 5  6  7  8]\n",
      " [ 9 10 11 12]\n",
      " [13 14 15 16]\n",
      " [17 18 19 20]]\n"
     ]
    }
   ],
   "source": [
    "reshaped2 = arr4.reshape(5,4)\n",
    "print(reshaped2)"
   ]
  },
  {
   "cell_type": "code",
   "execution_count": null,
   "id": "365d45ed-9b3a-41be-a802-d1aadb1d808b",
   "metadata": {},
   "outputs": [],
   "source": []
  }
 ],
 "metadata": {
  "kernelspec": {
   "display_name": "Python 3 (ipykernel)",
   "language": "python",
   "name": "python3"
  },
  "language_info": {
   "codemirror_mode": {
    "name": "ipython",
    "version": 3
   },
   "file_extension": ".py",
   "mimetype": "text/x-python",
   "name": "python",
   "nbconvert_exporter": "python",
   "pygments_lexer": "ipython3",
   "version": "3.13.2"
  }
 },
 "nbformat": 4,
 "nbformat_minor": 5
}
