{
 "cells": [
  {
   "cell_type": "markdown",
   "id": "962a18f3-002b-43da-b469-b3c71c10f42d",
   "metadata": {},
   "source": [
    "📘 Day 19: Dimensionality Reduction with PCA (Principal Component Analysis)"
   ]
  },
  {
   "cell_type": "markdown",
   "id": "5e06bb95-2251-4433-8b60-a90bf1becec5",
   "metadata": {},
   "source": [
    "PCA helps us reduce high-dimensional data into 2D or 3D while keeping most of the important information—great for visualization and speed."
   ]
  },
  {
   "cell_type": "markdown",
   "id": "602e4ff6-d868-4fbb-843b-a9f063ea91b1",
   "metadata": {},
   "source": [
    "✅ What You’ll Learn:\n",
    "\n",
    "1) Why we use PCA\n",
    "\n",
    "2) How to apply PCA using scikit-learn\n",
    "\n",
    "3) Visualize high-dimensional clusters in 2D"
   ]
  },
  {
   "cell_type": "code",
   "execution_count": 1,
   "id": "d4a25f7b-a585-4187-93ce-c2fce8bbfd43",
   "metadata": {},
   "outputs": [],
   "source": [
    "# 🧪 Sample: PCA on Customer Data"
   ]
  },
  {
   "cell_type": "code",
   "execution_count": 2,
   "id": "86b86c04-3669-473a-89ef-5d21d5e9120c",
   "metadata": {},
   "outputs": [],
   "source": [
    "import pandas as pd\n",
    "import seaborn as sns\n",
    "import matplotlib.pyplot as plt\n",
    "from sklearn.preprocessing import StandardScaler\n",
    "from sklearn.decomposition import PCA"
   ]
  },
  {
   "cell_type": "code",
   "execution_count": 3,
   "id": "2e63a47f-47e7-4dbc-bee4-8e73dc4b232c",
   "metadata": {},
   "outputs": [
    {
     "name": "stdout",
     "output_type": "stream",
     "text": [
      "   CustomerID  Age  Annual_Income  Spending_Score\n",
      "0           1   19             15              39\n",
      "1           2   21             18              81\n",
      "2           3   20             20               6\n",
      "3           4   23             22              77\n",
      "4           5   31             50              40\n"
     ]
    }
   ],
   "source": [
    "# Simulated customer data\n",
    "data = {\n",
    "    \"CustomerID\": range(1, 11),\n",
    "    \"Age\": [19, 21, 20, 23, 31, 45, 40, 32, 28, 35],\n",
    "    \"Annual_Income\": [15, 18, 20, 22, 50, 85, 70, 55, 48, 60],\n",
    "    \"Spending_Score\": [39, 81, 6, 77, 40, 5, 10, 60, 48, 30]\n",
    "}\n",
    "\n",
    "df = pd.DataFrame(data)\n",
    "print(df.head())"
   ]
  },
  {
   "cell_type": "code",
   "execution_count": 4,
   "id": "098f43f6-ec0d-40a1-8036-05062da2a8b9",
   "metadata": {},
   "outputs": [],
   "source": [
    "features = [\"Age\", \"Annual_Income\", \"Spending_Score\"]\n",
    "X = df[features]"
   ]
  },
  {
   "cell_type": "code",
   "execution_count": 5,
   "id": "2df0b269-b6d2-4e4a-9a1b-52060da9a18c",
   "metadata": {},
   "outputs": [],
   "source": [
    "scaler = StandardScaler()"
   ]
  },
  {
   "cell_type": "code",
   "execution_count": 6,
   "id": "675e325a-108c-4a95-9d32-023c5032ab5e",
   "metadata": {},
   "outputs": [],
   "source": [
    "X_scaled = scaler.fit_transform(X)"
   ]
  },
  {
   "cell_type": "code",
   "execution_count": 7,
   "id": "77ad4a30-8d01-40c1-af7d-8bfa2b6c46f8",
   "metadata": {},
   "outputs": [
    {
     "data": {
      "text/plain": [
       "array([[-1.23739397, -1.2653194 , -0.02285088],\n",
       "       [-0.99943359, -1.13576451,  1.57671102],\n",
       "       [-1.11841378, -1.04939459, -1.27964952],\n",
       "       [-0.76147321, -0.96302466,  1.42437179],\n",
       "       [ 0.1903683 ,  0.24615429,  0.01523392],\n",
       "       [ 1.85609095,  1.75762797, -1.31773433],\n",
       "       [ 1.26119   ,  1.10985353, -1.12731029],\n",
       "       [ 0.30934849,  0.4620791 ,  0.77693007],\n",
       "       [-0.16657226,  0.15978436,  0.31991238],\n",
       "       [ 0.66628906,  0.67800391, -0.36561415]])"
      ]
     },
     "execution_count": 7,
     "metadata": {},
     "output_type": "execute_result"
    }
   ],
   "source": [
    "X_scaled"
   ]
  },
  {
   "cell_type": "code",
   "execution_count": 8,
   "id": "3ac3e77a-ca98-4c50-8646-21a994abca2b",
   "metadata": {},
   "outputs": [],
   "source": [
    "pca = PCA(n_components = 2)\n",
    "x_pca = pca.fit_transform(X_scaled)"
   ]
  },
  {
   "cell_type": "code",
   "execution_count": 9,
   "id": "2971df47-5792-4e20-b761-f6ddf0d96ede",
   "metadata": {},
   "outputs": [],
   "source": [
    "df[\"pca_1\"] = x_pca[:,0]\n",
    "df[\"pca_2\"] = x_pca[:, 1]"
   ]
  },
  {
   "cell_type": "code",
   "execution_count": 10,
   "id": "46161c20-292d-4335-9ff8-51ff50048d4a",
   "metadata": {},
   "outputs": [],
   "source": [
    "# 📈 Plot Clusters in PCA Space"
   ]
  },
  {
   "cell_type": "code",
   "execution_count": 11,
   "id": "3173a378-2e1c-4e64-a0f4-c851e6884556",
   "metadata": {},
   "outputs": [
    {
     "name": "stderr",
     "output_type": "stream",
     "text": [
      "C:\\Users\\Siddh\\AppData\\Local\\Temp\\ipykernel_1852\\1044180664.py:1: UserWarning: Ignoring `palette` because no `hue` variable has been assigned.\n",
      "  sns.scatterplot(data = df, x = \"pca_1\", y = \"pca_2\", palette = \"Set2\", s = 100)\n"
     ]
    },
    {
     "data": {
      "image/png": "[encoded data removed]",
      "text/plain": [
       "<Figure size 640x480 with 1 Axes>"
      ]
     },
     "metadata": {},
     "output_type": "display_data"
    }
   ],
   "source": [
    "sns.scatterplot(data = df, x = \"pca_1\", y = \"pca_2\", palette = \"Set2\", s = 100)\n",
    "plt.title(\"Customer Segmentation (PCA projection)\")\n",
    "plt.show()"
   ]
  },
  {
   "cell_type": "code",
   "execution_count": null,
   "id": "07e6056f-6226-4545-827e-03abd1b36efe",
   "metadata": {},
   "outputs": [],
   "source": []
  }
 ],
 "metadata": {
  "kernelspec": {
   "display_name": "Python 3 (ipykernel)",
   "language": "python",
   "name": "python3"
  },
  "language_info": {
   "codemirror_mode": {
    "name": "ipython",
    "version": 3
   },
   "file_extension": ".py",
   "mimetype": "text/x-python",
   "name": "python",
   "nbconvert_exporter": "python",
   "pygments_lexer": "ipython3",
   "version": "3.13.2"
  }
 },
 "nbformat": 4,
 "nbformat_minor": 5
}
