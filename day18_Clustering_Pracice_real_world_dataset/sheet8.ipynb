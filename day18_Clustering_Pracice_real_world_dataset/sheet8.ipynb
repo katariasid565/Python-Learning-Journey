{
 "cells": [
  {
   "cell_type": "code",
   "execution_count": 1,
   "id": "160b3a66-a738-4a1f-95bf-853ef8a9553e",
   "metadata": {},
   "outputs": [],
   "source": [
    "import pandas as pd\n",
    "import numpy as np\n",
    "import matplotlib.pyplot as plt\n",
    "import seaborn as sns"
   ]
  },
  {
   "cell_type": "code",
   "execution_count": 6,
   "id": "14201a9d-dad6-47fd-ac4b-23fd94d7c66a",
   "metadata": {},
   "outputs": [
    {
     "data": {
      "text/html": [
       "<div>\n",
       "<style scoped>\n",
       "    .dataframe tbody tr th:only-of-type {\n",
       "        vertical-align: middle;\n",
       "    }\n",
       "\n",
       "    .dataframe tbody tr th {\n",
       "        vertical-align: top;\n",
       "    }\n",
       "\n",
       "    .dataframe thead th {\n",
       "        text-align: right;\n",
       "    }\n",
       "</style>\n",
       "<table border=\"1\" class=\"dataframe\">\n",
       "  <thead>\n",
       "    <tr style=\"text-align: right;\">\n",
       "      <th></th>\n",
       "      <th>Date</th>\n",
       "      <th>Venue Name</th>\n",
       "      <th>Address</th>\n",
       "      <th>Area</th>\n",
       "      <th>Name</th>\n",
       "      <th>Designation</th>\n",
       "      <th>Number</th>\n",
       "      <th>Lead Status</th>\n",
       "      <th>Mail id</th>\n",
       "      <th>Meeting Status</th>\n",
       "      <th>Accompanied with</th>\n",
       "      <th>Comments</th>\n",
       "    </tr>\n",
       "  </thead>\n",
       "  <tbody>\n",
       "    <tr>\n",
       "      <th>0</th>\n",
       "      <td>5/11/2016</td>\n",
       "      <td>RD Fiesta</td>\n",
       "      <td>Main Najafgarh Road, Near Metro Pillar No. 563...</td>\n",
       "      <td>West Delhi</td>\n",
       "      <td>Mr.Ramandeep</td>\n",
       "      <td>C.E.O</td>\n",
       "      <td>NaN</td>\n",
       "      <td>Cold</td>\n",
       "      <td>rdfiesta@gmail.com</td>\n",
       "      <td>Fresh meeting</td>\n",
       "      <td>Mohit</td>\n",
       "      <td>May-11- proposal shared</td>\n",
       "    </tr>\n",
       "    <tr>\n",
       "      <th>1</th>\n",
       "      <td>5/11/2016</td>\n",
       "      <td>Golden Crown/ Majestic Crown</td>\n",
       "      <td>Near Moti Nagar Chowk, 36, Rama Rd, Block C, N...</td>\n",
       "      <td>West Delhi</td>\n",
       "      <td>Mr.Grav Arora</td>\n",
       "      <td>Owner</td>\n",
       "      <td>NaN</td>\n",
       "      <td>Hot</td>\n",
       "      <td>NaN</td>\n",
       "      <td>Deal close</td>\n",
       "      <td>Mohit</td>\n",
       "      <td>May-11- Need to contact again on 24th</td>\n",
       "    </tr>\n",
       "    <tr>\n",
       "      <th>2</th>\n",
       "      <td>5/11/2016</td>\n",
       "      <td>Hotel Intercity</td>\n",
       "      <td>17A/42, W.E.A, Gurudwara Road, Opp. Jessa Ram ...</td>\n",
       "      <td>Central Delhi</td>\n",
       "      <td>Mr.Raj Gaur</td>\n",
       "      <td>G.M</td>\n",
       "      <td>NaN</td>\n",
       "      <td>Cold</td>\n",
       "      <td>NaN</td>\n",
       "      <td>Follow-up</td>\n",
       "      <td>Mohit</td>\n",
       "      <td>May-11-not interested</td>\n",
       "    </tr>\n",
       "    <tr>\n",
       "      <th>3</th>\n",
       "      <td>5/11/2016</td>\n",
       "      <td>Bhagwati Garden</td>\n",
       "      <td>Desai Village, Basai, Sector 70, Noida, Uttar ...</td>\n",
       "      <td>Noida</td>\n",
       "      <td>Mr.Mohd. Ishaaq</td>\n",
       "      <td>Owner</td>\n",
       "      <td>NaN</td>\n",
       "      <td>Warm</td>\n",
       "      <td>NaN</td>\n",
       "      <td>Follow-up</td>\n",
       "      <td>Mohit</td>\n",
       "      <td>May-11-get trial for 1 month on 10%</td>\n",
       "    </tr>\n",
       "    <tr>\n",
       "      <th>4</th>\n",
       "      <td>5/11/2016</td>\n",
       "      <td>Red Carpet Hotel</td>\n",
       "      <td>Bs-31 Opp Cleo County Towers, Sector 70, Noida...</td>\n",
       "      <td>Noida</td>\n",
       "      <td>Mr.Sonu</td>\n",
       "      <td>Marketing Head</td>\n",
       "      <td>8447053446</td>\n",
       "      <td>Hot</td>\n",
       "      <td>mo.noida@redcarpethotels.com</td>\n",
       "      <td>Follow-up</td>\n",
       "      <td>Mohit</td>\n",
       "      <td>May-11-followup for the payment</td>\n",
       "    </tr>\n",
       "  </tbody>\n",
       "</table>\n",
       "</div>"
      ],
      "text/plain": [
       "        Date                    Venue Name  \\\n",
       "0  5/11/2016                     RD Fiesta   \n",
       "1  5/11/2016  Golden Crown/ Majestic Crown   \n",
       "2  5/11/2016               Hotel Intercity   \n",
       "3  5/11/2016               Bhagwati Garden   \n",
       "4  5/11/2016              Red Carpet Hotel   \n",
       "\n",
       "                                             Address           Area  \\\n",
       "0  Main Najafgarh Road, Near Metro Pillar No. 563...     West Delhi   \n",
       "1  Near Moti Nagar Chowk, 36, Rama Rd, Block C, N...     West Delhi   \n",
       "2  17A/42, W.E.A, Gurudwara Road, Opp. Jessa Ram ...  Central Delhi   \n",
       "3  Desai Village, Basai, Sector 70, Noida, Uttar ...          Noida   \n",
       "4  Bs-31 Opp Cleo County Towers, Sector 70, Noida...          Noida   \n",
       "\n",
       "              Name     Designation      Number Lead Status  \\\n",
       "0     Mr.Ramandeep           C.E.O         NaN        Cold   \n",
       "1    Mr.Grav Arora           Owner         NaN         Hot   \n",
       "2      Mr.Raj Gaur             G.M         NaN        Cold   \n",
       "3  Mr.Mohd. Ishaaq           Owner         NaN        Warm   \n",
       "4          Mr.Sonu  Marketing Head  8447053446         Hot   \n",
       "\n",
       "                        Mail id Meeting Status Accompanied with  \\\n",
       "0            rdfiesta@gmail.com  Fresh meeting            Mohit   \n",
       "1                           NaN     Deal close            Mohit   \n",
       "2                           NaN      Follow-up            Mohit   \n",
       "3                           NaN      Follow-up            Mohit   \n",
       "4  mo.noida@redcarpethotels.com      Follow-up            Mohit   \n",
       "\n",
       "                                Comments  \n",
       "0                May-11- proposal shared  \n",
       "1  May-11- Need to contact again on 24th  \n",
       "2                  May-11-not interested  \n",
       "3    May-11-get trial for 1 month on 10%  \n",
       "4        May-11-followup for the payment  "
      ]
     },
     "execution_count": 6,
     "metadata": {},
     "output_type": "execute_result"
    }
   ],
   "source": [
    "df = pd.read_csv(\"data8.csv\")\n",
    "df.head()"
   ]
  },
  {
   "cell_type": "code",
   "execution_count": 7,
   "id": "a99761cf-0c96-462d-b300-da2de9550be1",
   "metadata": {},
   "outputs": [
    {
     "data": {
      "text/plain": [
       "Date                  6\n",
       "Venue Name            0\n",
       "Address              19\n",
       "Area                 21\n",
       "Name                 30\n",
       "Designation          34\n",
       "Number               99\n",
       "Lead Status          72\n",
       "Mail id             114\n",
       "Meeting Status       52\n",
       "Accompanied with    109\n",
       "Comments             89\n",
       "dtype: int64"
      ]
     },
     "execution_count": 7,
     "metadata": {},
     "output_type": "execute_result"
    }
   ],
   "source": [
    "df.isna().sum()"
   ]
  },
  {
   "cell_type": "code",
   "execution_count": 8,
   "id": "a7fc0bf5-91a7-4c10-8859-ecf4967a722c",
   "metadata": {},
   "outputs": [],
   "source": [
    "df2 = df.drop([\"Comments\", \"Address\", \"Number\"], axis = 1).copy()"
   ]
  },
  {
   "cell_type": "code",
   "execution_count": 9,
   "id": "7532dd50-6e44-4cc6-99c3-7d23c9e6d36f",
   "metadata": {},
   "outputs": [
    {
     "data": {
      "text/html": [
       "<div>\n",
       "<style scoped>\n",
       "    .dataframe tbody tr th:only-of-type {\n",
       "        vertical-align: middle;\n",
       "    }\n",
       "\n",
       "    .dataframe tbody tr th {\n",
       "        vertical-align: top;\n",
       "    }\n",
       "\n",
       "    .dataframe thead th {\n",
       "        text-align: right;\n",
       "    }\n",
       "</style>\n",
       "<table border=\"1\" class=\"dataframe\">\n",
       "  <thead>\n",
       "    <tr style=\"text-align: right;\">\n",
       "      <th></th>\n",
       "      <th>Date</th>\n",
       "      <th>Venue Name</th>\n",
       "      <th>Area</th>\n",
       "      <th>Name</th>\n",
       "      <th>Designation</th>\n",
       "      <th>Lead Status</th>\n",
       "      <th>Mail id</th>\n",
       "      <th>Meeting Status</th>\n",
       "      <th>Accompanied with</th>\n",
       "    </tr>\n",
       "  </thead>\n",
       "  <tbody>\n",
       "    <tr>\n",
       "      <th>0</th>\n",
       "      <td>5/11/2016</td>\n",
       "      <td>RD Fiesta</td>\n",
       "      <td>West Delhi</td>\n",
       "      <td>Mr.Ramandeep</td>\n",
       "      <td>C.E.O</td>\n",
       "      <td>Cold</td>\n",
       "      <td>rdfiesta@gmail.com</td>\n",
       "      <td>Fresh meeting</td>\n",
       "      <td>Mohit</td>\n",
       "    </tr>\n",
       "    <tr>\n",
       "      <th>1</th>\n",
       "      <td>5/11/2016</td>\n",
       "      <td>Golden Crown/ Majestic Crown</td>\n",
       "      <td>West Delhi</td>\n",
       "      <td>Mr.Grav Arora</td>\n",
       "      <td>Owner</td>\n",
       "      <td>Hot</td>\n",
       "      <td>NaN</td>\n",
       "      <td>Deal close</td>\n",
       "      <td>Mohit</td>\n",
       "    </tr>\n",
       "    <tr>\n",
       "      <th>2</th>\n",
       "      <td>5/11/2016</td>\n",
       "      <td>Hotel Intercity</td>\n",
       "      <td>Central Delhi</td>\n",
       "      <td>Mr.Raj Gaur</td>\n",
       "      <td>G.M</td>\n",
       "      <td>Cold</td>\n",
       "      <td>NaN</td>\n",
       "      <td>Follow-up</td>\n",
       "      <td>Mohit</td>\n",
       "    </tr>\n",
       "    <tr>\n",
       "      <th>3</th>\n",
       "      <td>5/11/2016</td>\n",
       "      <td>Bhagwati Garden</td>\n",
       "      <td>Noida</td>\n",
       "      <td>Mr.Mohd. Ishaaq</td>\n",
       "      <td>Owner</td>\n",
       "      <td>Warm</td>\n",
       "      <td>NaN</td>\n",
       "      <td>Follow-up</td>\n",
       "      <td>Mohit</td>\n",
       "    </tr>\n",
       "    <tr>\n",
       "      <th>4</th>\n",
       "      <td>5/11/2016</td>\n",
       "      <td>Red Carpet Hotel</td>\n",
       "      <td>Noida</td>\n",
       "      <td>Mr.Sonu</td>\n",
       "      <td>Marketing Head</td>\n",
       "      <td>Hot</td>\n",
       "      <td>mo.noida@redcarpethotels.com</td>\n",
       "      <td>Follow-up</td>\n",
       "      <td>Mohit</td>\n",
       "    </tr>\n",
       "  </tbody>\n",
       "</table>\n",
       "</div>"
      ],
      "text/plain": [
       "        Date                    Venue Name           Area             Name  \\\n",
       "0  5/11/2016                     RD Fiesta     West Delhi     Mr.Ramandeep   \n",
       "1  5/11/2016  Golden Crown/ Majestic Crown     West Delhi    Mr.Grav Arora   \n",
       "2  5/11/2016               Hotel Intercity  Central Delhi      Mr.Raj Gaur   \n",
       "3  5/11/2016               Bhagwati Garden          Noida  Mr.Mohd. Ishaaq   \n",
       "4  5/11/2016              Red Carpet Hotel          Noida          Mr.Sonu   \n",
       "\n",
       "      Designation Lead Status                       Mail id Meeting Status  \\\n",
       "0           C.E.O        Cold            rdfiesta@gmail.com  Fresh meeting   \n",
       "1           Owner         Hot                           NaN     Deal close   \n",
       "2             G.M        Cold                           NaN      Follow-up   \n",
       "3           Owner        Warm                           NaN      Follow-up   \n",
       "4  Marketing Head         Hot  mo.noida@redcarpethotels.com      Follow-up   \n",
       "\n",
       "  Accompanied with  \n",
       "0            Mohit  \n",
       "1            Mohit  \n",
       "2            Mohit  \n",
       "3            Mohit  \n",
       "4            Mohit  "
      ]
     },
     "execution_count": 9,
     "metadata": {},
     "output_type": "execute_result"
    }
   ],
   "source": [
    "df2.head()"
   ]
  },
  {
   "cell_type": "code",
   "execution_count": 11,
   "id": "845e3410-277d-4c74-a359-a6cdf9075cb4",
   "metadata": {},
   "outputs": [],
   "source": [
    "df2 = df2.drop([\"Mail id\"], axis = 1)"
   ]
  },
  {
   "cell_type": "code",
   "execution_count": 12,
   "id": "f7bc7611-c05e-4cbf-ac73-6fe137457fb6",
   "metadata": {},
   "outputs": [
    {
     "data": {
      "text/plain": [
       "Date                  6\n",
       "Venue Name            0\n",
       "Area                 21\n",
       "Name                 30\n",
       "Designation          34\n",
       "Lead Status          72\n",
       "Meeting Status       52\n",
       "Accompanied with    109\n",
       "dtype: int64"
      ]
     },
     "execution_count": 12,
     "metadata": {},
     "output_type": "execute_result"
    }
   ],
   "source": [
    "df2.isna().sum()"
   ]
  },
  {
   "cell_type": "code",
   "execution_count": 16,
   "id": "c62d0d55-e85d-4a2a-aa10-503fb53cd4cc",
   "metadata": {},
   "outputs": [],
   "source": [
    "df2[\"Date\"] = pd.to_datetime(df2[\"Date\"], dayfirst=True, errors=\"coerce\")\n",
    "df3 = df2.fillna({\n",
    "    'Date': df2[\"Date\"].mean(),  # Only works if dates are numeric\n",
    "    'Area': 'Delhi',\n",
    "    'Name': 'No Name',\n",
    "    'Designation': df2[\"Designation\"].median() if df2[\"Designation\"].dtype in ['int64', 'float64'] else 'Unknown',\n",
    "    'Lead Status': df2[\"Lead Status\"].mode()[0] if not df2[\"Lead Status\"].mode().empty else 'Unknown',\n",
    "    'Meeting Status': 'Follow-up',\n",
    "    'Accompanied with': 'Satish'\n",
    "})\n"
   ]
  },
  {
   "cell_type": "code",
   "execution_count": 17,
   "id": "651cbefb-ec86-4c13-b1f6-8b8df0cab331",
   "metadata": {},
   "outputs": [
    {
     "data": {
      "text/html": [
       "<div>\n",
       "<style scoped>\n",
       "    .dataframe tbody tr th:only-of-type {\n",
       "        vertical-align: middle;\n",
       "    }\n",
       "\n",
       "    .dataframe tbody tr th {\n",
       "        vertical-align: top;\n",
       "    }\n",
       "\n",
       "    .dataframe thead th {\n",
       "        text-align: right;\n",
       "    }\n",
       "</style>\n",
       "<table border=\"1\" class=\"dataframe\">\n",
       "  <thead>\n",
       "    <tr style=\"text-align: right;\">\n",
       "      <th></th>\n",
       "      <th>Date</th>\n",
       "      <th>Venue Name</th>\n",
       "      <th>Area</th>\n",
       "      <th>Name</th>\n",
       "      <th>Designation</th>\n",
       "      <th>Lead Status</th>\n",
       "      <th>Meeting Status</th>\n",
       "      <th>Accompanied with</th>\n",
       "    </tr>\n",
       "  </thead>\n",
       "  <tbody>\n",
       "    <tr>\n",
       "      <th>0</th>\n",
       "      <td>2016-11-05</td>\n",
       "      <td>RD Fiesta</td>\n",
       "      <td>West Delhi</td>\n",
       "      <td>Mr.Ramandeep</td>\n",
       "      <td>C.E.O</td>\n",
       "      <td>Cold</td>\n",
       "      <td>Fresh meeting</td>\n",
       "      <td>Mohit</td>\n",
       "    </tr>\n",
       "    <tr>\n",
       "      <th>1</th>\n",
       "      <td>2016-11-05</td>\n",
       "      <td>Golden Crown/ Majestic Crown</td>\n",
       "      <td>West Delhi</td>\n",
       "      <td>Mr.Grav Arora</td>\n",
       "      <td>Owner</td>\n",
       "      <td>Hot</td>\n",
       "      <td>Deal close</td>\n",
       "      <td>Mohit</td>\n",
       "    </tr>\n",
       "    <tr>\n",
       "      <th>2</th>\n",
       "      <td>2016-11-05</td>\n",
       "      <td>Hotel Intercity</td>\n",
       "      <td>Central Delhi</td>\n",
       "      <td>Mr.Raj Gaur</td>\n",
       "      <td>G.M</td>\n",
       "      <td>Cold</td>\n",
       "      <td>Follow-up</td>\n",
       "      <td>Mohit</td>\n",
       "    </tr>\n",
       "    <tr>\n",
       "      <th>3</th>\n",
       "      <td>2016-11-05</td>\n",
       "      <td>Bhagwati Garden</td>\n",
       "      <td>Noida</td>\n",
       "      <td>Mr.Mohd. Ishaaq</td>\n",
       "      <td>Owner</td>\n",
       "      <td>Warm</td>\n",
       "      <td>Follow-up</td>\n",
       "      <td>Mohit</td>\n",
       "    </tr>\n",
       "    <tr>\n",
       "      <th>4</th>\n",
       "      <td>2016-11-05</td>\n",
       "      <td>Red Carpet Hotel</td>\n",
       "      <td>Noida</td>\n",
       "      <td>Mr.Sonu</td>\n",
       "      <td>Marketing Head</td>\n",
       "      <td>Hot</td>\n",
       "      <td>Follow-up</td>\n",
       "      <td>Mohit</td>\n",
       "    </tr>\n",
       "  </tbody>\n",
       "</table>\n",
       "</div>"
      ],
      "text/plain": [
       "        Date                    Venue Name           Area             Name  \\\n",
       "0 2016-11-05                     RD Fiesta     West Delhi     Mr.Ramandeep   \n",
       "1 2016-11-05  Golden Crown/ Majestic Crown     West Delhi    Mr.Grav Arora   \n",
       "2 2016-11-05               Hotel Intercity  Central Delhi      Mr.Raj Gaur   \n",
       "3 2016-11-05               Bhagwati Garden          Noida  Mr.Mohd. Ishaaq   \n",
       "4 2016-11-05              Red Carpet Hotel          Noida          Mr.Sonu   \n",
       "\n",
       "      Designation Lead Status Meeting Status Accompanied with  \n",
       "0           C.E.O        Cold  Fresh meeting            Mohit  \n",
       "1           Owner         Hot     Deal close            Mohit  \n",
       "2             G.M        Cold      Follow-up            Mohit  \n",
       "3           Owner        Warm      Follow-up            Mohit  \n",
       "4  Marketing Head         Hot      Follow-up            Mohit  "
      ]
     },
     "execution_count": 17,
     "metadata": {},
     "output_type": "execute_result"
    }
   ],
   "source": [
    "df3.head()"
   ]
  },
  {
   "cell_type": "code",
   "execution_count": 18,
   "id": "fa269621-7976-4220-a551-173dfbb11484",
   "metadata": {},
   "outputs": [
    {
     "data": {
      "text/plain": [
       "Date                0\n",
       "Venue Name          0\n",
       "Area                0\n",
       "Name                0\n",
       "Designation         0\n",
       "Lead Status         0\n",
       "Meeting Status      0\n",
       "Accompanied with    0\n",
       "dtype: int64"
      ]
     },
     "execution_count": 18,
     "metadata": {},
     "output_type": "execute_result"
    }
   ],
   "source": [
    "df3.isna().sum()"
   ]
  },
  {
   "cell_type": "code",
   "execution_count": 19,
   "id": "0ea5cdc7-0ba5-4d2b-9f67-9877db83dd41",
   "metadata": {},
   "outputs": [
    {
     "data": {
      "text/plain": [
       "Date                0\n",
       "Venue Name          0\n",
       "Area                0\n",
       "Name                0\n",
       "Designation         0\n",
       "Lead Status         0\n",
       "Meeting Status      0\n",
       "Accompanied with    0\n",
       "dtype: int64"
      ]
     },
     "execution_count": 19,
     "metadata": {},
     "output_type": "execute_result"
    }
   ],
   "source": [
    "df3.isnull().sum()"
   ]
  },
  {
   "cell_type": "code",
   "execution_count": 20,
   "id": "8d1dfd22-05c2-4295-8721-b39b5863f5f8",
   "metadata": {},
   "outputs": [
    {
     "data": {
      "text/plain": [
       "(228, 8)"
      ]
     },
     "execution_count": 20,
     "metadata": {},
     "output_type": "execute_result"
    }
   ],
   "source": [
    "df3.shape"
   ]
  },
  {
   "cell_type": "code",
   "execution_count": 21,
   "id": "0a89c7e9-c2dc-4721-a0e8-953e9d9700ed",
   "metadata": {},
   "outputs": [
    {
     "data": {
      "text/plain": [
       "(228, 12)"
      ]
     },
     "execution_count": 21,
     "metadata": {},
     "output_type": "execute_result"
    }
   ],
   "source": [
    "df.shape"
   ]
  },
  {
   "cell_type": "code",
   "execution_count": null,
   "id": "9e67ef70-4c4f-4aa8-990e-ce1308c03b87",
   "metadata": {},
   "outputs": [],
   "source": []
  }
 ],
 "metadata": {
  "kernelspec": {
   "display_name": "Python 3 (ipykernel)",
   "language": "python",
   "name": "python3"
  },
  "language_info": {
   "codemirror_mode": {
    "name": "ipython",
    "version": 3
   },
   "file_extension": ".py",
   "mimetype": "text/x-python",
   "name": "python",
   "nbconvert_exporter": "python",
   "pygments_lexer": "ipython3",
   "version": "3.13.2"
  }
 },
 "nbformat": 4,
 "nbformat_minor": 5
}
